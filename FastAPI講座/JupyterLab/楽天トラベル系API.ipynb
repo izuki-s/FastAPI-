{
 "cells": [
  {
   "cell_type": "code",
   "execution_count": 1,
   "id": "365c3fe2-743b-4951-ac22-806b2acaa115",
   "metadata": {},
   "outputs": [
    {
     "data": {
      "text/plain": [
       "{'applicationId': '1074874059060029257', 'keyword': '千葉'}"
      ]
     },
     "execution_count": 1,
     "metadata": {},
     "output_type": "execute_result"
    }
   ],
   "source": [
    "import requests\n",
    "\n",
    "URL = \"https://app.rakuten.co.jp/services/api/Travel/KeywordHotelSearch/20170426\"\n",
    "APP_ID = \"1074874059060029257\"\n",
    "\n",
    "params={\n",
    "    \"applicationId\":APP_ID,\n",
    "    \"keyword\":\"千葉\"\n",
    "}\n",
    "\n",
    "params"
   ]
  },
  {
   "cell_type": "code",
   "execution_count": 2,
   "id": "a1e275d3-0113-4100-90bd-1ada86efa000",
   "metadata": {},
   "outputs": [],
   "source": [
    "res=requests.get(URL,params)"
   ]
  },
  {
   "cell_type": "code",
   "execution_count": 3,
   "id": "f6840aea-b44e-48b8-b778-1db22996e74d",
   "metadata": {},
   "outputs": [
    {
     "data": {
      "text/plain": [
       "200"
      ]
     },
     "execution_count": 3,
     "metadata": {},
     "output_type": "execute_result"
    }
   ],
   "source": [
    "res.status_code"
   ]
  },
  {
   "cell_type": "code",
   "execution_count": 18,
   "id": "f5e88251-5c5d-4813-a921-96d1a01d1359",
   "metadata": {
    "scrolled": true
   },
   "outputs": [
    {
     "data": {
      "text/plain": [
       "'ベッセルイン千葉駅前｜サウナ付大浴場（千葉・京成千葉・幕張）'"
      ]
     },
     "execution_count": 18,
     "metadata": {},
     "output_type": "execute_result"
    }
   ],
   "source": [
    "hotels = res.json()[\"hotels\"]\n",
    "hotel = hotels[0][\"hotel\"][0][\"hotelBasicInfo\"]\n",
    "hotel[\"hotelName\"]\n"
   ]
  },
  {
   "cell_type": "code",
   "execution_count": 17,
   "id": "c7285f97-c8d8-4091-af9e-6c71e6e134d1",
   "metadata": {},
   "outputs": [
    {
     "data": {
      "text/plain": [
       "'JR千葉駅東口より徒歩約4分/京成千葉駅より徒歩約4分/千葉都市モノレール栄町駅より徒歩約1分'"
      ]
     },
     "execution_count": 17,
     "metadata": {},
     "output_type": "execute_result"
    }
   ],
   "source": [
    "hotel[\"access\"]"
   ]
  },
  {
   "cell_type": "code",
   "execution_count": 19,
   "id": "bd4e0294-b632-49f4-a728-8dec9ec662a7",
   "metadata": {},
   "outputs": [
    {
     "data": {
      "text/plain": [
       "'千葉県千葉市中央区富士見1-12-3'"
      ]
     },
     "execution_count": 19,
     "metadata": {},
     "output_type": "execute_result"
    }
   ],
   "source": [
    "address = hotel[\"address1\"]+hotel[\"address2\"]\n",
    "address"
   ]
  },
  {
   "cell_type": "code",
   "execution_count": null,
   "id": "50a2b155-0703-4dbc-af61-de23b2de4cb4",
   "metadata": {},
   "outputs": [],
   "source": []
  }
 ],
 "metadata": {
  "kernelspec": {
   "display_name": "Python 3 (ipykernel)",
   "language": "python",
   "name": "python3"
  },
  "language_info": {
   "codemirror_mode": {
    "name": "ipython",
    "version": 3
   },
   "file_extension": ".py",
   "mimetype": "text/x-python",
   "name": "python",
   "nbconvert_exporter": "python",
   "pygments_lexer": "ipython3",
   "version": "3.11.5"
  }
 },
 "nbformat": 4,
 "nbformat_minor": 5
}
